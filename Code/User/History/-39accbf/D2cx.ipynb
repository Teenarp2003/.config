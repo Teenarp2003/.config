{
 "cells": [
  {
   "cell_type": "code",
   "execution_count": 5,
   "metadata": {},
   "outputs": [
    {
     "name": "stdout",
     "output_type": "stream",
     "text": [
      "Point 1: (711, 17)\n",
      "Point 2: (3147, 1379)\n"
     ]
    }
   ],
   "source": [
    "import cv2\n",
    "\n",
    "# Callback function for mouse events\n",
    "def mouse_callback(event, x, y, flags, param):\n",
    "    global point1, point2, selecting\n",
    "\n",
    "    if event == cv2.EVENT_LBUTTONDOWN:\n",
    "        if not selecting:\n",
    "            point1 = (x, y)\n",
    "            selecting = True\n",
    "        else:\n",
    "            point2 = (x, y)\n",
    "            selecting = False\n",
    "\n",
    "            cv2.rectangle(image_copy, point1, point2, (0, 255, 0), 2)\n",
    "            cv2.imshow('Select Points', image_copy)\n",
    "\n",
    "# Read the image\n",
    "image = cv2.imread('maze2.jpg')\n",
    "image_copy = image.copy()\n",
    "\n",
    "point1 = (-1, -1)\n",
    "point2 = (-1, -1)\n",
    "selecting = False\n",
    "\n",
    "cv2.namedWindow('Select Points')\n",
    "cv2.setMouseCallback('Select Points', mouse_callback)\n",
    "\n",
    "while True:\n",
    "    cv2.imshow('Select Points', image_copy)\n",
    "    key = cv2.waitKey(1) & 0xFF\n",
    "\n",
    "    if key == 27:  # Press 'Esc' key to exit\n",
    "        break\n",
    "    elif point1 != (-1, -1) and point2 != (-1, -1):\n",
    "        break\n",
    "\n",
    "cv2.destroyAllWindows()\n",
    "\n",
    "if point1 != (-1, -1) and point2 != (-1, -1):\n",
    "    print(\"Point 1:\", point1)\n",
    "    print(\"Point 2:\", point2)\n"
   ]
  },
  {
   "cell_type": "code",
   "execution_count": null,
   "metadata": {},
   "outputs": [],
   "source": []
  }
 ],
 "metadata": {
  "kernelspec": {
   "display_name": ".venv",
   "language": "python",
   "name": "python3"
  },
  "language_info": {
   "codemirror_mode": {
    "name": "ipython",
    "version": 3
   },
   "file_extension": ".py",
   "mimetype": "text/x-python",
   "name": "python",
   "nbconvert_exporter": "python",
   "pygments_lexer": "ipython3",
   "version": "3.11.3"
  },
  "orig_nbformat": 4
 },
 "nbformat": 4,
 "nbformat_minor": 2
}
